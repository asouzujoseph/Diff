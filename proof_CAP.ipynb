{
 "cells": [
  {
   "cell_type": "code",
   "execution_count": 12,
   "id": "8d53e318",
   "metadata": {},
   "outputs": [],
   "source": [
    "import pandas as pd\n",
    "import difflib as dl\n",
    "import numpy as np\n",
    "from difflib import Differ\n",
    "from pprint import pprint"
   ]
  },
  {
   "cell_type": "code",
   "execution_count": 13,
   "id": "c313dc4b",
   "metadata": {},
   "outputs": [],
   "source": [
    "df_2018_Mol = pd.read_excel(open('test_CAP.xlsx', 'rb'),sheet_name=\"Mol_2018\",index_col=0) \n",
    "df_2018_Mol =  df_2018_Mol.fillna('') # remove NaN\n",
    "df_2018_Mol = df_2018_Mol.astype(str)\n",
    "df_2019_Mol = pd.read_excel(open('test_CAP.xlsx', 'rb'),sheet_name=\"Mol_2019\",index_col=0) \n",
    "df_2019_Mol = df_2019_Mol.fillna('')\n",
    "df_2019_Mol = df_2019_Mol.astype(str)"
   ]
  },
  {
   "cell_type": "code",
   "execution_count": 26,
   "id": "8309cff6",
   "metadata": {},
   "outputs": [],
   "source": [
    "df_all = pd.concat([df_2018_Mol, df_2019_Mol],axis='columns', keys=['2018', '2019'])\n",
    "df_final_Mol = df_all.swaplevel(axis='columns')[df_2018_Mol.columns[0:]]\n",
    "df_final_Mol = df_final_Mol.fillna('')"
   ]
  },
  {
   "cell_type": "code",
   "execution_count": 27,
   "id": "c4b530a8",
   "metadata": {},
   "outputs": [],
   "source": [
    "def changes(x,y):\n",
    "    changes = list()\n",
    "    dicty = {}\n",
    "    xx=Differ()\n",
    "    for i in range(len(x[y]['2019'])):\n",
    "        dicty.setdefault(i, [])\n",
    "        hhh = str(x[y]['2018'][i]).split(\" \")\n",
    "        kkk = str(x[y]['2019'][i]).split(\" \")\n",
    "        result=list(xx.compare(hhh,kkk))\n",
    "        for item in result:\n",
    "            if item.startswith('+'):\n",
    "                dicty[i].append(item)\n",
    "            elif item.startswith('-'):\n",
    "                #changes.append(item)\n",
    "                dicty[i].append(item)\n",
    "            else:\n",
    "                pass\n",
    "    for i in dicty.values():\n",
    "        for n in i:\n",
    "            if n == \"- \":\n",
    "                i.remove(n)\n",
    "    x[y,'Changes'] = dicty.values()\n",
    "    return x\n"
   ]
  },
  {
   "cell_type": "code",
   "execution_count": 28,
   "id": "341c269a",
   "metadata": {},
   "outputs": [],
   "source": [
    "names =list()\n",
    "for i in df_final_Mol.columns:\n",
    "    names.append(i[0])\n",
    "uniq_cols = set(names)\n",
    "for column in uniq_cols:  ### iterate over the columns \n",
    "    changes(df_final_Mol,column)  ### call function to calculate difference"
   ]
  },
  {
   "cell_type": "code",
   "execution_count": 29,
   "id": "53a0c2c4",
   "metadata": {},
   "outputs": [],
   "source": [
    "# version control\n",
    "columns = [('Phase', '2018'),('Phase', '2019'), ('Phase', 'Changes'),('Subject Header', '2018'),('Subject Header', '2019'),\n",
    "          ('Subject Header', 'Changes'),('Requirement', '2018'),('Requirement', '2019'),('Requirement', 'Changes'),\n",
    "          ('Note', '2018'),('Note', '2019'),('Note', 'Changes'),('Evidence of Compliance', '2018'),('Evidence of Compliance', '2019'),\n",
    "          ('Evidence of Compliance', 'Changes')]\n",
    "df_final_Mol = df_final_Mol[columns]\n",
    "df_final_Mol.columns = df_final_Mol.columns.to_flat_index()"
   ]
  },
  {
   "cell_type": "code",
   "execution_count": 30,
   "id": "baf0eac5",
   "metadata": {},
   "outputs": [],
   "source": [
    "df_final_Mol.columns = [\"_\".join(a) for a in df_final_Mol.columns.to_flat_index()]"
   ]
  },
  {
   "cell_type": "code",
   "execution_count": 31,
   "id": "6a303dc1",
   "metadata": {},
   "outputs": [],
   "source": [
    "# # version control\n",
    "# columns = [('Phase', '2018'),('Phase', '2019'), ('Phase', 'Changes'),('Subject Header', '2018'),('Subject Header', '2019'),\n",
    "#           ('Subject Header', 'Changes'),('Requirement', '2018'),('Requirement', '2019'),('Requirement', 'Changes'),\n",
    "#           ('Note', '2018'),('Note', '2019'),('Note', 'Changes'),('Evidence of Compliance', '2018'),('Evidence of Compliance', '2019'),\n",
    "#           ('Evidence of Compliance', 'Changes')]\n",
    "# df_final_Mol = df_final_Mol[columns]\n",
    "# df_final_Mol.columns = df_final_Mol.columns.to_flat_index()\n",
    "# df_final_Mol.columns = [\"_\".join(a) for a in df_final_Mol.columns.to_flat_index()]\n",
    "df_final_Mol.to_excel(\"Changes_Mol.xlsx\")\n",
    "# html =df_final_Mol.to_html()\n",
    "# # write html to file\n",
    "# text_file = open(\"Changes.html\", \"w\")\n",
    "# text_file.write(html)\n",
    "# text_file.close()"
   ]
  }
 ],
 "metadata": {
  "kernelspec": {
   "display_name": "Python 3 (ipykernel)",
   "language": "python",
   "name": "python3"
  },
  "language_info": {
   "codemirror_mode": {
    "name": "ipython",
    "version": 3
   },
   "file_extension": ".py",
   "mimetype": "text/x-python",
   "name": "python",
   "nbconvert_exporter": "python",
   "pygments_lexer": "ipython3",
   "version": "3.9.13"
  }
 },
 "nbformat": 4,
 "nbformat_minor": 5
}
